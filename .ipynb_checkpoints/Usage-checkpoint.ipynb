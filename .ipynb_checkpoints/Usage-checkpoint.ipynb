{
 "cells": [
  {
   "cell_type": "markdown",
   "metadata": {},
   "source": [
    "# Using our M15 data (Hoffman et al. 2020)\n",
    "\n",
    "This code below is a helper to recover the data used presented in Hoffman et al. 2020. "
   ]
  },
  {
   "cell_type": "code",
   "execution_count": 1,
   "metadata": {},
   "outputs": [],
   "source": [
    "import numpy as np\n",
    "import matplotlib.pyplot as plt\n",
    "import pandas as pd\n",
    "import PIPS"
   ]
  },
  {
   "cell_type": "markdown",
   "metadata": {},
   "source": [
    "## (1) Data table\n",
    "This data table contains all information we used to analyze the data.<br>\n",
    "Table A1 in Hoffman et al. is a subset of this full table."
   ]
  },
  {
   "cell_type": "code",
   "execution_count": 2,
   "metadata": {},
   "outputs": [],
   "source": [
    "summary = pd.read_csv(f'summary_ver13.csv').set_index('id').sort_values(by='id')"
   ]
  },
  {
   "cell_type": "code",
   "execution_count": 3,
   "metadata": {},
   "outputs": [
    {
     "data": {
      "text/plain": [
       "Index(['M15_1_Ndata', 'M15_1_amplitude', 'M15_1_chi2/N', 'M15_1_data_avg_err',\n",
       "       'M15_1_dec', 'M15_1_dist', 'M15_1_fname', 'M15_1_period',\n",
       "       'M15_1_period_err', 'M15_1_ra', 'M15_2_Ndata', 'M15_2_amplitude',\n",
       "       'M15_2_chi2/N', 'M15_2_data_avg_err', 'M15_2_dec', 'M15_2_dist',\n",
       "       'M15_2_fname', 'M15_2_period', 'M15_2_period_err', 'M15_2_ra',\n",
       "       'M15_3_Ndata', 'M15_3_amplitude', 'M15_3_chi2/N', 'M15_3_data_avg_err',\n",
       "       'M15_3_dec', 'M15_3_dist', 'M15_3_fname', 'M15_3_period',\n",
       "       'M15_3_period_err', 'M15_3_ra', 'M15_4_Ndata', 'M15_4_amplitude',\n",
       "       'M15_4_chi2/N', 'M15_4_data_avg_err', 'M15_4_dec', 'M15_4_dist',\n",
       "       'M15_4_fname', 'M15_4_period', 'M15_4_period_err', 'M15_4_ra', 'period',\n",
       "       'period_err', 'amplitude', 'N_data', 'chi2/N', 'data_mag_mean_err',\n",
       "       'dist_to_GCVS_deg', 'field', 'pick_method', 'H&M_id', 'ra', 'dec',\n",
       "       'p_corwin', 'p_silbermann', 'p_ferro', 'p_siegel', 'priors_mag_upper',\n",
       "       'priors_mag_lower', 'priors_period_guess', 'p1', 'p2', 'p_bailey',\n",
       "       'p_wemple', 'p_filippenko', 'p_hogg', 'confidences', 'err_cut',\n",
       "       'periors_mag_lower', 'mean_mag', 'type', 'pf', 'A1', 'Af'],\n",
       "      dtype='object')"
      ]
     },
     "execution_count": 3,
     "metadata": {},
     "output_type": "execute_result"
    }
   ],
   "source": [
    "summary.columns"
   ]
  },
  {
   "cell_type": "code",
   "execution_count": 4,
   "metadata": {},
   "outputs": [
    {
     "data": {
      "text/html": [
       "<div>\n",
       "<style scoped>\n",
       "    .dataframe tbody tr th:only-of-type {\n",
       "        vertical-align: middle;\n",
       "    }\n",
       "\n",
       "    .dataframe tbody tr th {\n",
       "        vertical-align: top;\n",
       "    }\n",
       "\n",
       "    .dataframe thead th {\n",
       "        text-align: right;\n",
       "    }\n",
       "</style>\n",
       "<table border=\"1\" class=\"dataframe\">\n",
       "  <thead>\n",
       "    <tr style=\"text-align: right;\">\n",
       "      <th></th>\n",
       "      <th>ra</th>\n",
       "      <th>dec</th>\n",
       "      <th>period</th>\n",
       "      <th>period_err</th>\n",
       "      <th>amplitude</th>\n",
       "      <th>mean_mag</th>\n",
       "      <th>type</th>\n",
       "    </tr>\n",
       "    <tr>\n",
       "      <th>id</th>\n",
       "      <th></th>\n",
       "      <th></th>\n",
       "      <th></th>\n",
       "      <th></th>\n",
       "      <th></th>\n",
       "      <th></th>\n",
       "      <th></th>\n",
       "    </tr>\n",
       "  </thead>\n",
       "  <tbody>\n",
       "    <tr>\n",
       "      <th>V001</th>\n",
       "      <td>322.458958</td>\n",
       "      <td>12.173970</td>\n",
       "      <td>1.437837</td>\n",
       "      <td>3.661651e-07</td>\n",
       "      <td>1.071</td>\n",
       "      <td>14.987350</td>\n",
       "      <td>Cepheid</td>\n",
       "    </tr>\n",
       "    <tr>\n",
       "      <th>V002</th>\n",
       "      <td>322.443774</td>\n",
       "      <td>12.168692</td>\n",
       "      <td>0.684304</td>\n",
       "      <td>1.601163e-07</td>\n",
       "      <td>0.488</td>\n",
       "      <td>15.741276</td>\n",
       "      <td>RRab</td>\n",
       "    </tr>\n",
       "    <tr>\n",
       "      <th>V003</th>\n",
       "      <td>322.422192</td>\n",
       "      <td>12.153865</td>\n",
       "      <td>0.388721</td>\n",
       "      <td>8.549906e-06</td>\n",
       "      <td>0.484</td>\n",
       "      <td>15.828362</td>\n",
       "      <td>RRc</td>\n",
       "    </tr>\n",
       "    <tr>\n",
       "      <th>V004</th>\n",
       "      <td>322.460962</td>\n",
       "      <td>12.121596</td>\n",
       "      <td>0.313589</td>\n",
       "      <td>2.414403e-08</td>\n",
       "      <td>0.626</td>\n",
       "      <td>15.919276</td>\n",
       "      <td>RRc</td>\n",
       "    </tr>\n",
       "    <tr>\n",
       "      <th>V005</th>\n",
       "      <td>322.464627</td>\n",
       "      <td>12.108085</td>\n",
       "      <td>0.384212</td>\n",
       "      <td>7.214155e-08</td>\n",
       "      <td>0.536</td>\n",
       "      <td>15.783994</td>\n",
       "      <td>RRc</td>\n",
       "    </tr>\n",
       "    <tr>\n",
       "      <th>...</th>\n",
       "      <td>...</td>\n",
       "      <td>...</td>\n",
       "      <td>...</td>\n",
       "      <td>...</td>\n",
       "      <td>...</td>\n",
       "      <td>...</td>\n",
       "      <td>...</td>\n",
       "    </tr>\n",
       "    <tr>\n",
       "      <th>V150</th>\n",
       "      <td>322.494954</td>\n",
       "      <td>12.171465</td>\n",
       "      <td>1.043201</td>\n",
       "      <td>1.134967e-05</td>\n",
       "      <td>0.298</td>\n",
       "      <td>13.148673</td>\n",
       "      <td>??</td>\n",
       "    </tr>\n",
       "    <tr>\n",
       "      <th>V152</th>\n",
       "      <td>NaN</td>\n",
       "      <td>NaN</td>\n",
       "      <td>NaN</td>\n",
       "      <td>NaN</td>\n",
       "      <td>NaN</td>\n",
       "      <td>NaN</td>\n",
       "      <td>NaN</td>\n",
       "    </tr>\n",
       "    <tr>\n",
       "      <th>V154</th>\n",
       "      <td>322.491594</td>\n",
       "      <td>12.170759</td>\n",
       "      <td>0.864274</td>\n",
       "      <td>3.178918e-07</td>\n",
       "      <td>0.396</td>\n",
       "      <td>13.001821</td>\n",
       "      <td>??</td>\n",
       "    </tr>\n",
       "    <tr>\n",
       "      <th>V155</th>\n",
       "      <td>322.490656</td>\n",
       "      <td>12.169706</td>\n",
       "      <td>0.911891</td>\n",
       "      <td>2.661795e-07</td>\n",
       "      <td>0.426</td>\n",
       "      <td>14.773248</td>\n",
       "      <td>Cepheid</td>\n",
       "    </tr>\n",
       "    <tr>\n",
       "      <th>V158</th>\n",
       "      <td>322.467559</td>\n",
       "      <td>12.103084</td>\n",
       "      <td>0.118083</td>\n",
       "      <td>9.705817e-09</td>\n",
       "      <td>0.677</td>\n",
       "      <td>19.970945</td>\n",
       "      <td>??</td>\n",
       "    </tr>\n",
       "  </tbody>\n",
       "</table>\n",
       "<p>169 rows × 7 columns</p>\n",
       "</div>"
      ],
      "text/plain": [
       "              ra        dec    period    period_err  amplitude   mean_mag  \\\n",
       "id                                                                          \n",
       "V001  322.458958  12.173970  1.437837  3.661651e-07      1.071  14.987350   \n",
       "V002  322.443774  12.168692  0.684304  1.601163e-07      0.488  15.741276   \n",
       "V003  322.422192  12.153865  0.388721  8.549906e-06      0.484  15.828362   \n",
       "V004  322.460962  12.121596  0.313589  2.414403e-08      0.626  15.919276   \n",
       "V005  322.464627  12.108085  0.384212  7.214155e-08      0.536  15.783994   \n",
       "...          ...        ...       ...           ...        ...        ...   \n",
       "V150  322.494954  12.171465  1.043201  1.134967e-05      0.298  13.148673   \n",
       "V152         NaN        NaN       NaN           NaN        NaN        NaN   \n",
       "V154  322.491594  12.170759  0.864274  3.178918e-07      0.396  13.001821   \n",
       "V155  322.490656  12.169706  0.911891  2.661795e-07      0.426  14.773248   \n",
       "V158  322.467559  12.103084  0.118083  9.705817e-09      0.677  19.970945   \n",
       "\n",
       "         type  \n",
       "id             \n",
       "V001  Cepheid  \n",
       "V002     RRab  \n",
       "V003      RRc  \n",
       "V004      RRc  \n",
       "V005      RRc  \n",
       "...       ...  \n",
       "V150       ??  \n",
       "V152      NaN  \n",
       "V154       ??  \n",
       "V155  Cepheid  \n",
       "V158       ??  \n",
       "\n",
       "[169 rows x 7 columns]"
      ]
     },
     "execution_count": 4,
     "metadata": {},
     "output_type": "execute_result"
    }
   ],
   "source": [
    "# Table A1\n",
    "summary[['ra','dec','period','period_err','amplitude','mean_mag','type']]"
   ]
  },
  {
   "cell_type": "markdown",
   "metadata": {},
   "source": [
    "## (2) Photometry data\n",
    "We recommend taking a look at https://github.com/SterlingYM/PIPS for the usage of PIPS ```photdata``` object."
   ]
  },
  {
   "cell_type": "code",
   "execution_count": 5,
   "metadata": {},
   "outputs": [],
   "source": [
    "def getdata_filtered(name):\n",
    "    path = summary.loc[name,'field']+'/summary/'+summary.loc[name,'H&M_id'][-3:]+'.dat'\n",
    "    period = summary.loc[name]['period']\n",
    "    data_V = PIPS.data_readin_LPP(path,filter='V')\n",
    "    data_B = PIPS.data_readin_LPP(path,filter='B')\n",
    "    \n",
    "    # B-V estimate: mean difference of B-band against the nearest available V-band observations\n",
    "    B_V = np.mean([(data_B[1][i]-data_V[1][abs(data_V[0]-data_B[0][i]).argmin()]) for i in range(len(data_B[1]))])\n",
    "                   \n",
    "    # prepare to cut bad datapoints\n",
    "    err_threshold = None if np.isnan(summary.loc[name,'err_cut']) else summary.loc[name,'err_cut']\n",
    "    mag_upper = None if np.isnan(summary.loc[name]['priors_mag_upper']) else summary.loc[name]['priors_mag_upper']\n",
    "    mag_lower = None if np.isnan(summary.loc[name]['priors_mag_lower']) else summary.loc[name]['priors_mag_lower']\n",
    "\n",
    "    # construct PIPS photdata object\n",
    "    original = PIPS.photdata(data_V)\n",
    "    original.err_cut_threshold = err_threshold\n",
    "    filtered = original.phot_err_cut().phot_mag_cut(mag_upper,mag_lower)\n",
    "    filtered.period = period\n",
    "    filtered.label = name\n",
    "    filtered.B_V = B_V\n",
    "    \n",
    "    # characteristic intrinsic scatter: see section 2.2.2 in our paper\n",
    "    new_yerr = []\n",
    "    for i in filtered.yerr:\n",
    "        new_yerr.append(0.03 if i<0.03 else i)\n",
    "    filtered.yerr = np.array(new_yerr)\n",
    "    filtered.mag_err = filtered.yerr\n",
    "        \n",
    "    return filtered"
   ]
  },
  {
   "cell_type": "markdown",
   "metadata": {},
   "source": [
    "### example 1"
   ]
  },
  {
   "cell_type": "code",
   "execution_count": 6,
   "metadata": {},
   "outputs": [
    {
     "data": {
      "text/plain": [
       "Text(0, 0.5, '$V$ [mag]')"
      ]
     },
     "execution_count": 6,
     "metadata": {},
     "output_type": "execute_result"
    },
    {
     "data": {
      "image/png": "[encoded data removed]",
      "text/plain": [
       "<Figure size 576x432 with 1 Axes>"
      ]
     },
     "metadata": {
      "needs_background": "light"
     },
     "output_type": "display_data"
    }
   ],
   "source": [
    "# pick a star\n",
    "name = 'V003'\n",
    "\n",
    "# get data\n",
    "phot_obj = getdata_filtered(name)\n",
    "\n",
    "# plot data\n",
    "period   = phot_obj.period\n",
    "x_folded = phot_obj.x % period\n",
    "y        = phot_obj.y\n",
    "yerr     = phot_obj.yerr\n",
    "fig,ax = plt.subplots(1,1,figsize=(8,6))\n",
    "markers1, caps1, bars1 = ax.errorbar(x_folded/period,y,yerr,ms=2,c='k',fmt='o')\n",
    "markers2, caps2, bars2 = ax.errorbar(x_folded/period+1,y,yerr,ms=2,c='k',fmt='o')\n",
    "\n",
    "# cosmetic settings\n",
    "[bar.set_alpha(0.2) for bar in bars1]\n",
    "[bar.set_alpha(0.2) for bar in bars2]\n",
    "[cap.set_alpha(0.2) for cap in caps1]\n",
    "[cap.set_alpha(0.2) for cap in caps2]\n",
    "ax.invert_yaxis()\n",
    "ax.set_xlabel('phase',fontsize=15)\n",
    "ax.set_ylabel(r'$V$ [mag]',fontsize=15)"
   ]
  },
  {
   "cell_type": "markdown",
   "metadata": {},
   "source": [
    "### example 2"
   ]
  },
  {
   "cell_type": "code",
   "execution_count": 7,
   "metadata": {},
   "outputs": [],
   "source": [
    "# get data\n",
    "phot_obj = getdata_filtered('V009')"
   ]
  },
  {
   "cell_type": "code",
   "execution_count": 8,
   "metadata": {},
   "outputs": [
    {
     "data": {
      "image/png": "[encoded data removed]",
      "text/plain": [
       "<Figure size 576x288 with 1 Axes>"
      ]
     },
     "metadata": {
      "needs_background": "light"
     },
     "output_type": "display_data"
    }
   ],
   "source": [
    "phot_obj.plot_lc_folded(phot_obj.period)"
   ]
  },
  {
   "cell_type": "code",
   "execution_count": null,
   "metadata": {},
   "outputs": [],
   "source": []
  }
 ],
 "metadata": {
  "kernelspec": {
   "display_name": "Python 3",
   "language": "python",
   "name": "python3"
  },
  "language_info": {
   "codemirror_mode": {
    "name": "ipython",
    "version": 3
   },
   "file_extension": ".py",
   "mimetype": "text/x-python",
   "name": "python",
   "nbconvert_exporter": "python",
   "pygments_lexer": "ipython3",
   "version": "3.7.6"
  },
  "varInspector": {
   "cols": {
    "lenName": 16,
    "lenType": 16,
    "lenVar": 40
   },
   "kernels_config": {
    "python": {
     "delete_cmd_postfix": "",
     "delete_cmd_prefix": "del ",
     "library": "var_list.py",
     "varRefreshCmd": "print(var_dic_list())"
    },
    "r": {
     "delete_cmd_postfix": ") ",
     "delete_cmd_prefix": "rm(",
     "library": "var_list.r",
     "varRefreshCmd": "cat(var_dic_list()) "
    }
   },
   "types_to_exclude": [
    "module",
    "function",
    "builtin_function_or_method",
    "instance",
    "_Feature"
   ],
   "window_display": false
  }
 },
 "nbformat": 4,
 "nbformat_minor": 4
}
